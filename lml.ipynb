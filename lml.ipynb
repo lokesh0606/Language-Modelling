{
 "cells": [
  {
   "cell_type": "code",
   "execution_count": 1,
   "metadata": {
    "id": "fitAUae9jD5k"
   },
   "outputs": [],
   "source": [
    "import numpy as np\n",
    "import torch\n",
    "import torch.nn as nn\n",
    "import torch.optim as optim\n",
    "import torch.nn.functional as F\n",
    "import matplotlib.pyplot as plt\n",
    "import nltk\n",
    "import warnings\n",
    "warnings.filterwarnings(action = 'ignore')\n",
    "torch.cuda.empty_cache()"
   ]
  },
  {
   "cell_type": "code",
   "execution_count": 2,
   "metadata": {
    "colab": {
     "base_uri": "https://localhost:8080/"
    },
    "id": "QN-sXx2Pj1oV",
    "outputId": "73551328-a0c2-463e-b379-f1635409a13c"
   },
   "outputs": [
    {
     "name": "stderr",
     "output_type": "stream",
     "text": [
      "[nltk_data] Downloading package punkt to\n",
      "[nltk_data]     C:\\Users\\Microsoft\\AppData\\Roaming\\nltk_data...\n",
      "[nltk_data]   Package punkt is already up-to-date!\n"
     ]
    }
   ],
   "source": [
    "# we are using the word_tokenize as it is more efficient and powerful\n",
    "from nltk import word_tokenize\n",
    "nltk.download('punkt')\n",
    "anna_words = []\n",
    "with open('anna.txt', 'r') as file:\n",
    "    for line in file:\n",
    "        anna_words.extend(word_tokenize(line.lower()))"
   ]
  },
  {
   "cell_type": "code",
   "execution_count": 3,
   "metadata": {
    "colab": {
     "base_uri": "https://localhost:8080/"
    },
    "id": "Ouf9CahTNfpE",
    "outputId": "0736cf65-8f08-40ff-80a5-ea6db3d8bca1"
   },
   "outputs": [
    {
     "name": "stdout",
     "output_type": "stream",
     "text": [
      "['chapter', '1', 'happy', 'families', 'are', 'all', 'alike', ';', 'every', 'unhappy']\n",
      "431119\n"
     ]
    }
   ],
   "source": [
    "print(anna_words[:10])\n",
    "print(len(anna_words))"
   ]
  },
  {
   "cell_type": "code",
   "execution_count": 4,
   "metadata": {
    "id": "fP0YxUMZj4o8"
   },
   "outputs": [],
   "source": [
    "from collections import Counter\n",
    "# creating the dict for word to id and id to word\n",
    "# Each word have unique ids \n",
    "# this will be required for mapping the words and convert to batch format\n",
    "\n",
    "word_to_id, id_to_word = {}, {}\n",
    "count = Counter(anna_words) # Counter function from collection\n",
    "n_unique = sorted(count, key=count.get, reverse=True)\n",
    "for idx, word in enumerate(n_unique):\n",
    "    word_to_id[word] = idx\n",
    "    id_to_word[idx] = word"
   ]
  },
  {
   "cell_type": "code",
   "execution_count": 5,
   "metadata": {
    "colab": {
     "base_uri": "https://localhost:8080/"
    },
    "id": "XtIgnr15j7Ht",
    "outputId": "2f5fac16-c837-4793-f277-e06c4bc4b843"
   },
   "outputs": [
    {
     "name": "stdout",
     "output_type": "stream",
     "text": [
      "Length of vocabulary is 13758\n",
      "[210, 2564, 283, 2970, 76, 31, 2408, 35, 203, 681]\n"
     ]
    }
   ],
   "source": [
    "# Converting our word data to indices\n",
    "anna_ids = [word_to_id[word] for word in anna_words] # list of ids\n",
    "\n",
    "# length of the vocabulary\n",
    "# This will be used for embedding layer and one-hot-vector for final output\n",
    "n_vocab = len(word_to_id)\n",
    "print(f'Length of vocabulary is {n_vocab}')\n",
    "\n",
    "# This is how the data looks after converting words to unique ids\n",
    "print(anna_ids[:10])\n",
    "\n",
    "#comment this line during actual training\n",
    "# anna_ids = anna_ids[:20000]\n",
    "\n",
    "# convert anna_ids to numpy array\n",
    "anna_ids = np.array(anna_ids)"
   ]
  },
  {
   "cell_type": "code",
   "execution_count": 6,
   "metadata": {
    "id": "A-6WA9gY5K-Q"
   },
   "outputs": [],
   "source": [
    "# Device\n",
    "# device = torch.device(\"cuda:0\" if torch.cuda.is_available() else \"cpu\")\n",
    "device = torch.device('cpu')"
   ]
  },
  {
   "cell_type": "markdown",
   "metadata": {
    "id": "j14ofsMNvEEh"
   },
   "source": [
    "Creating batches in RNN is tricky. \n",
    "\n",
    "**batch_size** = The entire data will be divided into these many rows\n",
    "ex: if we have total 100 number of words in anna.txt and we have batch_size = 5, then we will have a list of list which will have 5 rows and each row will \n",
    "contain 20 words.\n",
    "\n",
    "**sequence length** = Length of sentence during each iteration.\n",
    "Ex: In our example we have 5 rows and 20 columns. Let's select the seq_len as 4.\n",
    "During each mini_batch we will create x and y. Where x, y are features and labels respectively. For seq_len of 4 and batch_size of 5, our x will have 5 rows and 4 columns. Our label y is of same dimension as x but shifted by one position. This means we will create 5(batch_size) copy of our same RNN for training it in GPU and to each of those RNN we will pass for 4 words. These 5 RNNs will generate 5 hidden states from those 4 words passed to them as seq_len and in the next mini batch we will pass the next 4 words. For our dummy scenario we will be creating 20/4 = 5 mini batches and during each mini_batch hidden_state will be passed across the columns.\n",
    "\n",
    "read [this.](https://github.com/udacity/deep-learning-v2-pytorch/blob/master/recurrent-neural-networks/char-rnn/Character_Level_RNN_Solution.ipynb)\n",
    "\n",
    "\n"
   ]
  },
  {
   "cell_type": "code",
   "execution_count": 7,
   "metadata": {
    "id": "aFU95UYZnYLK"
   },
   "outputs": [],
   "source": [
    "def get_batches(arr, batch_size, seq_length):\n",
    "    '''Create a generator that returns batches of size\n",
    "       batch_size x seq_length from arr.\n",
    "       \n",
    "       Arguments\n",
    "       ---------\n",
    "       arr: Array you want to make batches from, i.e. anna_ids\n",
    "       batch_size: Batch size, the number of sequences per batch\n",
    "       seq_length: Number of encoded chars in a sequence\n",
    "    '''\n",
    "    \n",
    "    batch_size_total = batch_size * seq_length\n",
    "    # total number of batches we can make\n",
    "    n_batches = len(arr)//batch_size_total\n",
    "    \n",
    "    # Keep only enough characters to make full batches\n",
    "    arr = arr[:n_batches * batch_size_total]\n",
    "    # Reshape into batch_size rows\n",
    "    arr = arr.reshape((batch_size, -1))\n",
    "    \n",
    "    # iterate through the array, one sequence at a time\n",
    "    for n in range(0, arr.shape[1], seq_length):\n",
    "        # The features\n",
    "        x = arr[:, n:n+seq_length]\n",
    "        # The targets, shifted by one\n",
    "        y = np.zeros_like(x)\n",
    "        try:\n",
    "            y[:, :-1], y[:, -1] = x[:, 1:], arr[:, n+seq_length]\n",
    "        except IndexError:\n",
    "            y[:, :-1], y[:, -1] = x[:, 1:], arr[:, 0]\n",
    "        yield x, y"
   ]
  },
  {
   "cell_type": "code",
   "execution_count": 8,
   "metadata": {
    "id": "xhq2nB6FnZux"
   },
   "outputs": [],
   "source": [
    "anna_ids_np = np.array(anna_ids)\n",
    "batches = get_batches(anna_ids_np, 6, 5)"
   ]
  },
  {
   "cell_type": "code",
   "execution_count": 9,
   "metadata": {
    "id": "NhlAl4kpoATn"
   },
   "outputs": [],
   "source": [
    "x, y = next(batches)"
   ]
  },
  {
   "cell_type": "markdown",
   "metadata": {
    "id": "K1Y85_zjAlzh"
   },
   "source": [
    "Read [this](https://github.com/chrisvdweth/ml-toolkit/blob/master/pytorch/notebooks/minimal-example-lstm-input.ipynb) for better clarity about dimensions. "
   ]
  },
  {
   "cell_type": "code",
   "execution_count": 10,
   "metadata": {
    "id": "-QmA6xnEj9nL"
   },
   "outputs": [],
   "source": [
    "# defining the RNN\n",
    "\n",
    "class wordRNN(nn.Module):\n",
    "    '''creating a word level RNN'''\n",
    "    def __init__(self, input_size, hidden_size, batch_size, n_vocab, drop_prob = 0.2):\n",
    "        super(wordRNN, self).__init__()\n",
    "\n",
    "        self.embedding_size = input_size # This is the size of the embedding layer\n",
    "        self.hidden_size = hidden_size # Can be any value - hyperparameter\n",
    "        self.batch_size = batch_size\n",
    "        self.drop_prob = drop_prob\n",
    "\n",
    "        # Expected no of classes - for LM the entire vocab # n_vocab\n",
    "        self.n_vocab = n_vocab # Len of the vocab\n",
    "        \n",
    "        # Creating the embedding layer\n",
    "        self.embedding = nn.Embedding(num_embeddings=self.n_vocab, embedding_dim = self.embedding_size)\n",
    "\n",
    "        # Creating the LSTM\n",
    "        self.lstm = nn.LSTM(input_size = self.embedding_size, hidden_size = self.hidden_size, batch_first = True, dropout = self.drop_prob)\n",
    "\n",
    "        # Creating the FClayer\n",
    "        self.fc = nn.Linear(self.hidden_size, self.n_vocab)\n",
    "\n",
    "        #Creating a dropout layer\n",
    "        self.dropout = nn.Dropout(self.drop_prob)\n",
    "        \n",
    "    def init_hidden(self):\n",
    "        #(num_layers * num_directions, batch, hidden_size)\n",
    "        # batch_first = True, doesn't affect initial hidden state dimension\n",
    "        return (torch.zeros(1, self.batch_size, self.hidden_size).to(device), torch.zeros(1, self.batch_size, self.hidden_size).to(device))\n",
    "        \n",
    "    def forward(self, x, hidden):\n",
    "        embed = self.embedding(x)\n",
    "        # expected input shape (batch_size, sequence_len, input_size)\n",
    "        lstm_out, hidden = self.lstm(embed, hidden)\n",
    "        out = self.dropout(lstm_out)\n",
    "        out = out.contiguous().view(-1, self.hidden_size)\n",
    "        output = self.fc(out)\n",
    "        return output, hidden"
   ]
  },
  {
   "cell_type": "markdown",
   "metadata": {
    "id": "hFg5Fhoc1cpc"
   },
   "source": [
    "Here are some important information you need to implement the nn.CrossEntropyLoss(). It does not take in **one-hot vectors**. Rather, it takes in class values. Therefore, your logits and targets will **not be of the same dimensions**. Logits have to be of the dimension (num_examples, vocab_size) but your label only has to contain the index of the true class so it will have the shape (num_examples) not (num_examples, vocab_size). That shape would be needed only if you are feeding in one-hot encoded vectors."
   ]
  },
  {
   "cell_type": "code",
   "execution_count": 11,
   "metadata": {
    "id": "OdmMVNAgkQAY"
   },
   "outputs": [],
   "source": [
    "# Creating our training loop\n",
    "\n",
    "def train(model, data, epochs=10, batch_size=10, seq_length=50, lr=0.001, clip=5, val_frac=0.1):\n",
    "    \n",
    "    # Creating the criterion\n",
    "    criterion = nn.CrossEntropyLoss()\n",
    "\n",
    "    # Creating the optimizer\n",
    "    optimizer = optim.Adam(model.parameters(), lr = 0.001)\n",
    "\n",
    "    # Learning rate scheduler\n",
    "    # lr = torch.optim.lr_scheduler.StepLR()\n",
    "\n",
    "    train_loss_epoch = []\n",
    "    val_loss_epoch = []\n",
    "\n",
    "    # create training and validation data\n",
    "    val_idx = int(len(data)*(1-val_frac))\n",
    "    train_data, val_data = data[:val_idx], data[val_idx:]\n",
    "\n",
    "\n",
    "    counter = 0\n",
    "    for epoch in range(epochs):\n",
    "        \n",
    "        train_loss = 0\n",
    "        val_loss = 0\n",
    "        \n",
    "        hidden = model.init_hidden()\n",
    "        model.train()\n",
    "        \n",
    "        for data, label in get_batches(train_data, batch_size, seq_length):\n",
    "            counter+=1\n",
    "            data, label = torch.from_numpy(data), torch.from_numpy(label)\n",
    "\n",
    "            data = data.to(device)\n",
    "            label = label.to(device)\n",
    "            model.to(device)\n",
    "            criterion.to(device)\n",
    "\n",
    "            hidden = tuple([each.data for each in hidden])\n",
    "\n",
    "            optimizer.zero_grad()\n",
    "            logits, hidden = model(data, hidden)\n",
    "            loss = criterion(logits, label.view(batch_size*seq_len).long())\n",
    "            loss.backward()\n",
    "\n",
    "            # `clip_grad_norm` helps prevent the exploding gradient problem in RNNs / LSTMs.\n",
    "            nn.utils.clip_grad_norm_(model.parameters(), clip)\n",
    "            optimizer.step()\n",
    "            \n",
    "            train_loss += loss.item()\n",
    "\n",
    "\n",
    "        val_h = model.init_hidden()\n",
    "        model.eval()\n",
    "\n",
    "        for data, label in get_batches(val_data, batch_size, seq_length):\n",
    "            # One-hot encode our data and make them Torch tensors\n",
    "            data, label = torch.from_numpy(data), torch.from_numpy(label)\n",
    "        \n",
    "\n",
    "            # Creating new variables for the hidden state, otherwise\n",
    "            # we'd backprop through the entire training history\n",
    "            val_h = tuple([each.data for each in val_h])\n",
    "\n",
    "            inputs, targets = data, label\n",
    "            inputs.to(device)\n",
    "            targets.to(device)\n",
    "\n",
    "            output, val_h = model(inputs, val_h)\n",
    "            val_loss_temp = criterion(output, targets.view(batch_size*seq_length).long())\n",
    "\n",
    "            val_loss += val_loss_temp.item()\n",
    "            \n",
    "        train_loss_epoch.append(train_loss)\n",
    "        val_loss_epoch.append(val_loss)\n",
    "\n",
    "\n",
    "        print(\"Epoch: {}/{}...\".format(epoch+1, epochs),\n",
    "            \"Step: {}...\".format(counter),\n",
    "            \" Train Loss: {:.4f}...\".format(train_loss_epoch[-1]),\n",
    "            \" Validation Loss: {:.4f}...\".format(val_loss_epoch[-1]))\n",
    "        \n",
    "#     print(f'The training loss for epoch {epoch} is{train_loss}')"
   ]
  },
  {
   "cell_type": "code",
   "execution_count": 12,
   "metadata": {
    "colab": {
     "base_uri": "https://localhost:8080/",
     "height": 381
    },
    "id": "uw8dcFm0mByk",
    "outputId": "1ba7809e-bdf0-427f-b364-0ab21b7bf0a2"
   },
   "outputs": [
    {
     "name": "stdout",
     "output_type": "stream",
     "text": [
      "Epoch: 1/10... Step: 303...  Train Loss: 1748.4401...  Validation Loss: 179.1718...\n",
      "Epoch: 2/10... Step: 606...  Train Loss: 1501.8193...  Validation Loss: 171.1935...\n",
      "Epoch: 3/10... Step: 909...  Train Loss: 1417.5236...  Validation Loss: 167.4724...\n",
      "Epoch: 4/10... Step: 1212...  Train Loss: 1355.0168...  Validation Loss: 165.1995...\n",
      "Epoch: 5/10... Step: 1515...  Train Loss: 1299.8150...  Validation Loss: 164.0242...\n",
      "Epoch: 6/10... Step: 1818...  Train Loss: 1248.5582...  Validation Loss: 163.5314...\n",
      "Epoch: 7/10... Step: 2121...  Train Loss: 1200.8852...  Validation Loss: 164.0882...\n",
      "Epoch: 8/10... Step: 2424...  Train Loss: 1157.1028...  Validation Loss: 163.9245...\n",
      "Epoch: 9/10... Step: 2727...  Train Loss: 1117.7539...  Validation Loss: 164.5872...\n",
      "Epoch: 10/10... Step: 3030...  Train Loss: 1079.1443...  Validation Loss: 165.0321...\n"
     ]
    }
   ],
   "source": [
    "n_vocab = len(word_to_id)\n",
    "\n",
    "embedding_size = 100\n",
    "hidden_size = 512\n",
    "batch_size = 16\n",
    "seq_len = 80\n",
    "epochs = 10\n",
    "\n",
    "# creating our RNN model\n",
    "model = wordRNN(embedding_size, hidden_size, batch_size, n_vocab)\n",
    "\n",
    "train(model, anna_ids, epochs=epochs, batch_size=batch_size, seq_length=seq_len, lr=0.001, clip=5, val_frac=0.1)"
   ]
  }
 ],
 "metadata": {
  "accelerator": "GPU",
  "colab": {
   "collapsed_sections": [],
   "name": "language_model_rnn.ipynb",
   "provenance": []
  },
  "kernelspec": {
   "display_name": "Python 3 (ipykernel)",
   "language": "python",
   "name": "python3"
  },
  "language_info": {
   "codemirror_mode": {
    "name": "ipython",
    "version": 3
   },
   "file_extension": ".py",
   "mimetype": "text/x-python",
   "name": "python",
   "nbconvert_exporter": "python",
   "pygments_lexer": "ipython3",
   "version": "3.8.6"
  }
 },
 "nbformat": 4,
 "nbformat_minor": 4
}
